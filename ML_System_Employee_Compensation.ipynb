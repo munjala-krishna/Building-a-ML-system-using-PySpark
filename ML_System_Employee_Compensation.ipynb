{
 "cells": [
  {
   "cell_type": "markdown",
   "id": "9282a700",
   "metadata": {},
   "source": [
    "# Predicting Employee Compensation"
   ]
  },
  {
   "cell_type": "code",
   "execution_count": 1,
   "id": "5d0cfe2b",
   "metadata": {},
   "outputs": [
    {
     "name": "stderr",
     "output_type": "stream",
     "text": [
      "Setting default log level to \"WARN\".\n",
      "To adjust logging level use sc.setLogLevel(newLevel). For SparkR, use setLogLevel(newLevel).\n"
     ]
    },
    {
     "name": "stdout",
     "output_type": "stream",
     "text": [
      "23/12/17 09:50:55 WARN NativeCodeLoader: Unable to load native-hadoop library for your platform... using builtin-java classes where applicable\n"
     ]
    }
   ],
   "source": [
    "import findspark\n",
    "findspark.init()\n",
    "import pyspark\n",
    "sc = pyspark.SparkContext()\n",
    "from pyspark.sql import SparkSession\n",
    "spark = SparkSession.builder.getOrCreate()"
   ]
  },
  {
   "cell_type": "markdown",
   "id": "c545a037",
   "metadata": {},
   "source": [
    "## 1. Read the Data"
   ]
  },
  {
   "cell_type": "code",
   "execution_count": 2,
   "id": "f9df9246",
   "metadata": {},
   "outputs": [
    {
     "name": "stderr",
     "output_type": "stream",
     "text": [
      "                                                                                \r"
     ]
    },
    {
     "name": "stdout",
     "output_type": "stream",
     "text": [
      "+---------+----+-----------------------+--------------------+---------------+--------------------+----------+--------------------+---------------+--------------------+--------+--------------------+-------------------+---------+--------+--------------+------------+----------+-------------+--------------+--------------+------------------+\n",
      "|Year Type|Year|Organization Group Code|  Organization Group|Department Code|          Department|Union Code|               Union|Job Family Code|          Job Family|Job Code|                 Job|Employee Identifier| Salaries|Overtime|Other Salaries|Total Salary|Retirement|Health/Dental|Other Benefits|Total Benefits|Total Compensation|\n",
      "+---------+----+-----------------------+--------------------+---------------+--------------------+----------+--------------------+---------------+--------------------+--------+--------------------+-------------------+---------+--------+--------------+------------+----------+-------------+--------------+--------------+------------------+\n",
      "|   Fiscal|2016|                      1|   Public Protection|            DAT|   District Attorney|       311|Municipal Attorne...|           8100|       Legal & Court|    8177|Attorney (Civil/C...|              49919|114473.16|     0.0|        1500.0|   115973.16|  21025.98|      13068.8|       9368.71|      43463.49|         159436.65|\n",
      "| Calendar|2013|                      5|Culture & Recreation|            ART|     Arts Commission|       790|SEIU - Miscellane...|           1800|Budget, Admn & St...|    1844|Senior Management...|               1225| 84077.11|     0.0|           0.0|    84077.11|   16587.3|     12457.73|       6931.91|      35976.94|         120054.05|\n",
      "| Calendar|2015|                      4|    Community Health|            DPH|       Public Health|       535|SEIU - Human Serv...|           2900|      Human Services|    2903|  Eligibility Worker|              34873|  9980.17|     0.0|        798.43|     10778.6|       0.0|      2254.93|        835.11|       3090.04|          13868.64|\n",
      "|   Fiscal|2015|                      4|    Community Health|            DPH|       Public Health|       250|SEIU - Health Wor...|           2200|    Medical & Dental|    2202|         Dental Aide|              51145|  2873.41|     0.0|           0.0|     2873.41|       0.0|       622.63|        222.46|        845.09|            3718.5|\n",
      "|   Fiscal|2014|                      5|Culture & Recreation|            REC|Recreation and Pa...|       790|SEIU - Miscellane...|           3200|          Recreation|    3279|   Recreation Leader|              48705|  6701.85|     0.0|         176.7|     6878.55|       0.0|      2711.66|        538.43|       3250.09|          10128.64|\n",
      "+---------+----+-----------------------+--------------------+---------------+--------------------+----------+--------------------+---------------+--------------------+--------+--------------------+-------------------+---------+--------+--------------+------------+----------+-------------+--------------+--------------+------------------+\n",
      "only showing top 5 rows\n",
      "\n"
     ]
    }
   ],
   "source": [
    "df = spark.read.format('csv').option('header', 'true').option('inferSchema', 'true').load(\"/home/ubuntu/Employee_Compensation\")\n",
    "df.show(5)"
   ]
  },
  {
   "cell_type": "markdown",
   "id": "60b7dbb5",
   "metadata": {},
   "source": [
    "### 1.1 Display the number of rows and columns in the dataset"
   ]
  },
  {
   "cell_type": "code",
   "execution_count": 3,
   "id": "3ff58669",
   "metadata": {},
   "outputs": [
    {
     "name": "stdout",
     "output_type": "stream",
     "text": [
      "Dimension of the DataFrame is: (291825, 22)\n",
      "Number of Rows: 291825\n",
      "Number of Columns: 22\n"
     ]
    }
   ],
   "source": [
    "rows = df.count()\n",
    "columns = len(df.columns)\n",
    "\n",
    "print(f'Dimension of the DataFrame is: {rows, columns}')\n",
    "print(f'Number of Rows: {rows}')\n",
    "print(f'Number of Columns: {columns}')"
   ]
  },
  {
   "cell_type": "markdown",
   "id": "d938a02e",
   "metadata": {},
   "source": [
    "### 1.2 Check the datatype of the variables"
   ]
  },
  {
   "cell_type": "code",
   "execution_count": 4,
   "id": "29f6781c",
   "metadata": {
    "scrolled": true
   },
   "outputs": [
    {
     "data": {
      "text/plain": [
       "[('Year Type', 'string'),\n",
       " ('Year', 'int'),\n",
       " ('Organization Group Code', 'int'),\n",
       " ('Organization Group', 'string'),\n",
       " ('Department Code', 'string'),\n",
       " ('Department', 'string'),\n",
       " ('Union Code', 'int'),\n",
       " ('Union', 'string'),\n",
       " ('Job Family Code', 'string'),\n",
       " ('Job Family', 'string'),\n",
       " ('Job Code', 'string'),\n",
       " ('Job', 'string'),\n",
       " ('Employee Identifier', 'int'),\n",
       " ('Salaries', 'double'),\n",
       " ('Overtime', 'double'),\n",
       " ('Other Salaries', 'double'),\n",
       " ('Total Salary', 'double'),\n",
       " ('Retirement', 'double'),\n",
       " ('Health/Dental', 'double'),\n",
       " ('Other Benefits', 'double'),\n",
       " ('Total Benefits', 'double'),\n",
       " ('Total Compensation', 'double')]"
      ]
     },
     "execution_count": 4,
     "metadata": {},
     "output_type": "execute_result"
    }
   ],
   "source": [
    "df.dtypes"
   ]
  },
  {
   "cell_type": "markdown",
   "id": "f13473eb",
   "metadata": {},
   "source": [
    "## 2. Convert the incorrect column type into its suitable column type. And drop the redundant features"
   ]
  },
  {
   "cell_type": "code",
   "execution_count": 5,
   "id": "3878e81f",
   "metadata": {},
   "outputs": [
    {
     "name": "stdout",
     "output_type": "stream",
     "text": [
      "root\n",
      " |-- Year Type: string (nullable = true)\n",
      " |-- Year: string (nullable = true)\n",
      " |-- Organization Group Code: string (nullable = true)\n",
      " |-- Organization Group: string (nullable = true)\n",
      " |-- Department Code: string (nullable = true)\n",
      " |-- Department: string (nullable = true)\n",
      " |-- Union Code: string (nullable = true)\n",
      " |-- Union: string (nullable = true)\n",
      " |-- Job Family Code: string (nullable = true)\n",
      " |-- Job Family: string (nullable = true)\n",
      " |-- Job Code: string (nullable = true)\n",
      " |-- Job: string (nullable = true)\n",
      " |-- Employee Identifier: integer (nullable = true)\n",
      " |-- Salaries: double (nullable = true)\n",
      " |-- Overtime: double (nullable = true)\n",
      " |-- Other Salaries: double (nullable = true)\n",
      " |-- Total Salary: double (nullable = true)\n",
      " |-- Retirement: double (nullable = true)\n",
      " |-- Health/Dental: double (nullable = true)\n",
      " |-- Other Benefits: double (nullable = true)\n",
      " |-- Total Benefits: double (nullable = true)\n",
      " |-- Total Compensation: double (nullable = true)\n",
      "\n"
     ]
    }
   ],
   "source": [
    "# Converting the 'Year', 'Organization Group Code' and 'Union Code' columns type to string as they are not quantitative \n",
    "from pyspark.sql.functions import col\n",
    "\n",
    "df = df.withColumn('Year', col('Year').cast('string'))\n",
    "df = df.withColumn('Organization Group Code', col('Organization Group Code').cast('string'))\n",
    "df = df.withColumn('Union Code', col('Union Code').cast('string'))\n",
    "df.printSchema()"
   ]
  },
  {
   "cell_type": "code",
   "execution_count": 6,
   "id": "91fc10d2",
   "metadata": {},
   "outputs": [
    {
     "name": "stdout",
     "output_type": "stream",
     "text": [
      "+---------+----+--------------------+---------------+----------+--------------------+---------+--------+--------------+------------+----------+-------------+--------------+--------------+------------------+\n",
      "|Year Type|Year|  Organization Group|Department Code|Union Code|                 Job| Salaries|Overtime|Other Salaries|Total Salary|Retirement|Health/Dental|Other Benefits|Total Benefits|Total Compensation|\n",
      "+---------+----+--------------------+---------------+----------+--------------------+---------+--------+--------------+------------+----------+-------------+--------------+--------------+------------------+\n",
      "|   Fiscal|2016|   Public Protection|            DAT|       311|Attorney (Civil/C...|114473.16|     0.0|        1500.0|   115973.16|  21025.98|      13068.8|       9368.71|      43463.49|         159436.65|\n",
      "| Calendar|2013|Culture & Recreation|            ART|       790|Senior Management...| 84077.11|     0.0|           0.0|    84077.11|   16587.3|     12457.73|       6931.91|      35976.94|         120054.05|\n",
      "+---------+----+--------------------+---------------+----------+--------------------+---------+--------+--------------+------------+----------+-------------+--------------+--------------+------------------+\n",
      "only showing top 2 rows\n",
      "\n"
     ]
    }
   ],
   "source": [
    "# Dropping the redundant features ('Organization Group Code','Department', 'Union', 'Job Family Code', 'Job Family', 'Job Code', 'Employee Identifier') in the new dataframe df1\n",
    "\n",
    "df1 = df.select(col('Year Type'),\n",
    "                col('Year'),\n",
    "                col('Organization Group'),\n",
    "                col('Department Code'),\n",
    "                col('Union Code'),\n",
    "                col('Job'),\n",
    "                col('Salaries'),\n",
    "                col('Overtime'),\n",
    "                col('Other Salaries'),\n",
    "                col('Total Salary'),\n",
    "                col('Retirement'),\n",
    "                col('Health/Dental'),\n",
    "                col('Other Benefits'),\n",
    "                col('Total Benefits'),\n",
    "                col('Total Compensation'),\n",
    "                )\n",
    "\n",
    "df1.show(2)"
   ]
  },
  {
   "cell_type": "markdown",
   "id": "34c07d49",
   "metadata": {},
   "source": [
    "## 3. Check basic statistics and perform necessary data preprocessing (Like removing negative amount)"
   ]
  },
  {
   "cell_type": "code",
   "execution_count": 7,
   "id": "4dcbd2e4",
   "metadata": {},
   "outputs": [
    {
     "name": "stderr",
     "output_type": "stream",
     "text": [
      "[Stage 7:=============================>                             (1 + 1) / 2]\r"
     ]
    },
    {
     "name": "stdout",
     "output_type": "stream",
     "text": [
      "+-------+---------+------------------+--------------------+---------------+-----------------+------------------+-----------------+------------------+-----------------+------------------+------------------+-----------------+------------------+------------------+------------------+\n",
      "|summary|Year Type|              Year|  Organization Group|Department Code|       Union Code|               Job|         Salaries|          Overtime|   Other Salaries|      Total Salary|        Retirement|    Health/Dental|    Other Benefits|    Total Benefits|Total Compensation|\n",
      "+-------+---------+------------------+--------------------+---------------+-----------------+------------------+-----------------+------------------+-----------------+------------------+------------------+-----------------+------------------+------------------+------------------+\n",
      "|  count|   291825|            291825|              291825|         291825|           291782|            291825|           291825|            291825|           291825|            291825|            291825|           291825|            291825|            291825|            291825|\n",
      "|   mean|     null| 2014.325061252463|                null|           null|489.5060764543392|              null|63210.17288680958| 4406.877439766992|3781.032869870591| 71398.08319644183|12937.728957114685|8921.893731721031|4644.2764069562145|26503.899095793855| 97901.98229222857|\n",
      "| stddev|     null|1.0322652725499475|                null|           null|333.7611361507317|              null|44660.46230493864|11079.405928192673|7697.665317297405|52224.214098750745|  9785.06480840167|4900.318082757292|3787.9070104212783|16800.143146558938| 67777.54915227571|\n",
      "|    min| Calendar|              2013|    Community Health|            AAM|                1|     Account Clerk|        -68771.78|         -12308.66|         -19131.1|         -68771.78|         -30621.43|         -2940.47|          -10636.5|         -21295.15|         -74082.61|\n",
      "|    max|   Fiscal|              2016|Public Works, Tra...|            WTR|              990|Youth Comm Advisor|         515101.8|         227313.62|        342802.63|          515101.8|         105052.98|          21872.8|          35157.63|         141043.64|         653498.15|\n",
      "+-------+---------+------------------+--------------------+---------------+-----------------+------------------+-----------------+------------------+-----------------+------------------+------------------+-----------------+------------------+------------------+------------------+\n",
      "\n"
     ]
    },
    {
     "name": "stderr",
     "output_type": "stream",
     "text": [
      "                                                                                \r"
     ]
    }
   ],
   "source": [
    "# Performing basic statistics\n",
    "df1.describe().show()"
   ]
  },
  {
   "cell_type": "markdown",
   "id": "03bd3694",
   "metadata": {},
   "source": [
    "**We can see some negative values in all the numeric columns**"
   ]
  },
  {
   "cell_type": "code",
   "execution_count": 8,
   "id": "f6423e1f",
   "metadata": {},
   "outputs": [
    {
     "name": "stderr",
     "output_type": "stream",
     "text": [
      "                                                                                \r"
     ]
    },
    {
     "data": {
      "text/plain": [
       "290391"
      ]
     },
     "execution_count": 8,
     "metadata": {},
     "output_type": "execute_result"
    }
   ],
   "source": [
    "# Removing the rows with negative amount\n",
    "df2 = df1.filter((df1.Salaries >= 0 )&(df1.Overtime >= 0)&(col('Other Salaries') >= 0)&(col('Total Salary') >= 0)&(df1.Retirement >= 0)&(col('Health/Dental') >= 0)&(col('Other Benefits') >= 0)&(col('Total Benefits') >= 0)&(col('Total Compensation') >= 0))\n",
    "\n",
    "df2.count()"
   ]
  },
  {
   "cell_type": "markdown",
   "id": "5dbfe39b",
   "metadata": {},
   "source": [
    "**We can observe that after removing the rows with columns having negative values, the row count decreased to 290391 from 291825**"
   ]
  },
  {
   "cell_type": "markdown",
   "id": "402cd18c",
   "metadata": {},
   "source": [
    "## 4. Perform Missing Value Analysis"
   ]
  },
  {
   "cell_type": "code",
   "execution_count": 9,
   "id": "225e381c",
   "metadata": {},
   "outputs": [
    {
     "name": "stderr",
     "output_type": "stream",
     "text": [
      "[Stage 13:=============================>                            (1 + 1) / 2]\r"
     ]
    },
    {
     "name": "stdout",
     "output_type": "stream",
     "text": [
      "+---------+----+------------------+---------------+----------+---+--------+--------+--------------+------------+----------+-------------+--------------+--------------+------------------+\n",
      "|Year Type|Year|Organization Group|Department Code|Union Code|Job|Salaries|Overtime|Other Salaries|Total Salary|Retirement|Health/Dental|Other Benefits|Total Benefits|Total Compensation|\n",
      "+---------+----+------------------+---------------+----------+---+--------+--------+--------------+------------+----------+-------------+--------------+--------------+------------------+\n",
      "|        0|   0|                 0|              0|        43|  0|       0|       0|             0|           0|         0|            0|             0|             0|                 0|\n",
      "+---------+----+------------------+---------------+----------+---+--------+--------+--------------+------------+----------+-------------+--------------+--------------+------------------+\n",
      "\n"
     ]
    },
    {
     "name": "stderr",
     "output_type": "stream",
     "text": [
      "                                                                                \r"
     ]
    }
   ],
   "source": [
    "# Checking if the missing values are present\n",
    "from pyspark.sql.functions import isnull, when, count, col\n",
    "\n",
    "df2.select([count(when(isnull(c), c)).alias(c) for c in df2.columns]).show()"
   ]
  },
  {
   "cell_type": "markdown",
   "id": "a92c2ebe",
   "metadata": {},
   "source": [
    "*We have 43 rows of 'Union Code' column having missing values. Let us delete those rows*"
   ]
  },
  {
   "cell_type": "code",
   "execution_count": 10,
   "id": "47056820",
   "metadata": {},
   "outputs": [],
   "source": [
    "# Dropping the missing values\n",
    "\n",
    "df2 = df2.replace('null', None).dropna(how='any')"
   ]
  },
  {
   "cell_type": "code",
   "execution_count": 11,
   "id": "0385e407",
   "metadata": {},
   "outputs": [
    {
     "name": "stderr",
     "output_type": "stream",
     "text": [
      "                                                                                \r"
     ]
    },
    {
     "data": {
      "text/plain": [
       "290348"
      ]
     },
     "execution_count": 11,
     "metadata": {},
     "output_type": "execute_result"
    }
   ],
   "source": [
    "df2.count()"
   ]
  },
  {
   "cell_type": "code",
   "execution_count": 12,
   "id": "672479db",
   "metadata": {},
   "outputs": [
    {
     "name": "stderr",
     "output_type": "stream",
     "text": [
      "[Stage 19:>                                                         (0 + 2) / 2]\r"
     ]
    },
    {
     "name": "stdout",
     "output_type": "stream",
     "text": [
      "+---------+----+------------------+---------------+----------+---+--------+--------+--------------+------------+----------+-------------+--------------+--------------+------------------+\n",
      "|Year Type|Year|Organization Group|Department Code|Union Code|Job|Salaries|Overtime|Other Salaries|Total Salary|Retirement|Health/Dental|Other Benefits|Total Benefits|Total Compensation|\n",
      "+---------+----+------------------+---------------+----------+---+--------+--------+--------------+------------+----------+-------------+--------------+--------------+------------------+\n",
      "|        0|   0|                 0|              0|         0|  0|       0|       0|             0|           0|         0|            0|             0|             0|                 0|\n",
      "+---------+----+------------------+---------------+----------+---+--------+--------+--------------+------------+----------+-------------+--------------+--------------+------------------+\n",
      "\n"
     ]
    },
    {
     "name": "stderr",
     "output_type": "stream",
     "text": [
      "                                                                                \r"
     ]
    }
   ],
   "source": [
    "df2.select([count(when(isnull(c), c)).alias(c) for c in df2.columns]).show()"
   ]
  },
  {
   "cell_type": "markdown",
   "id": "f24694c8",
   "metadata": {},
   "source": [
    "**We can observe that after removing the missing values the row count decreased to 290348 from 290391. <br>\n",
    "Also we can confirm that there are no more any missing values in our dataset** "
   ]
  },
  {
   "cell_type": "markdown",
   "id": "7d6903af",
   "metadata": {},
   "source": [
    "## 5. Exploratory Data Analysis"
   ]
  },
  {
   "cell_type": "code",
   "execution_count": 22,
   "id": "b46413ad",
   "metadata": {},
   "outputs": [
    {
     "name": "stderr",
     "output_type": "stream",
     "text": [
      "                                                                                \r"
     ]
    }
   ],
   "source": [
    "# Converting our PySpark Dataframe to pandas\n",
    "df3 = df2.toPandas()"
   ]
  },
  {
   "cell_type": "code",
   "execution_count": 24,
   "id": "c1383b42",
   "metadata": {},
   "outputs": [
    {
     "data": {
      "text/html": [
       "<div>\n",
       "<style scoped>\n",
       "    .dataframe tbody tr th:only-of-type {\n",
       "        vertical-align: middle;\n",
       "    }\n",
       "\n",
       "    .dataframe tbody tr th {\n",
       "        vertical-align: top;\n",
       "    }\n",
       "\n",
       "    .dataframe thead th {\n",
       "        text-align: right;\n",
       "    }\n",
       "</style>\n",
       "<table border=\"1\" class=\"dataframe\">\n",
       "  <thead>\n",
       "    <tr style=\"text-align: right;\">\n",
       "      <th></th>\n",
       "      <th>Year Type</th>\n",
       "      <th>Year</th>\n",
       "      <th>Organization Group</th>\n",
       "      <th>Department Code</th>\n",
       "      <th>Union Code</th>\n",
       "      <th>Job</th>\n",
       "      <th>Salaries</th>\n",
       "      <th>Overtime</th>\n",
       "      <th>Other Salaries</th>\n",
       "      <th>Total Salary</th>\n",
       "      <th>Retirement</th>\n",
       "      <th>Health/Dental</th>\n",
       "      <th>Other Benefits</th>\n",
       "      <th>Total Benefits</th>\n",
       "      <th>Total Compensation</th>\n",
       "    </tr>\n",
       "  </thead>\n",
       "  <tbody>\n",
       "    <tr>\n",
       "      <th>0</th>\n",
       "      <td>Fiscal</td>\n",
       "      <td>2016</td>\n",
       "      <td>Public Protection</td>\n",
       "      <td>DAT</td>\n",
       "      <td>311</td>\n",
       "      <td>Attorney (Civil/Criminal)</td>\n",
       "      <td>114473.16</td>\n",
       "      <td>0.0</td>\n",
       "      <td>1500.00</td>\n",
       "      <td>115973.16</td>\n",
       "      <td>21025.98</td>\n",
       "      <td>13068.80</td>\n",
       "      <td>9368.71</td>\n",
       "      <td>43463.49</td>\n",
       "      <td>159436.65</td>\n",
       "    </tr>\n",
       "    <tr>\n",
       "      <th>1</th>\n",
       "      <td>Calendar</td>\n",
       "      <td>2013</td>\n",
       "      <td>Culture &amp; Recreation</td>\n",
       "      <td>ART</td>\n",
       "      <td>790</td>\n",
       "      <td>Senior Management Assistant</td>\n",
       "      <td>84077.11</td>\n",
       "      <td>0.0</td>\n",
       "      <td>0.00</td>\n",
       "      <td>84077.11</td>\n",
       "      <td>16587.30</td>\n",
       "      <td>12457.73</td>\n",
       "      <td>6931.91</td>\n",
       "      <td>35976.94</td>\n",
       "      <td>120054.05</td>\n",
       "    </tr>\n",
       "    <tr>\n",
       "      <th>2</th>\n",
       "      <td>Calendar</td>\n",
       "      <td>2015</td>\n",
       "      <td>Community Health</td>\n",
       "      <td>DPH</td>\n",
       "      <td>535</td>\n",
       "      <td>Eligibility Worker</td>\n",
       "      <td>9980.17</td>\n",
       "      <td>0.0</td>\n",
       "      <td>798.43</td>\n",
       "      <td>10778.60</td>\n",
       "      <td>0.00</td>\n",
       "      <td>2254.93</td>\n",
       "      <td>835.11</td>\n",
       "      <td>3090.04</td>\n",
       "      <td>13868.64</td>\n",
       "    </tr>\n",
       "    <tr>\n",
       "      <th>3</th>\n",
       "      <td>Fiscal</td>\n",
       "      <td>2015</td>\n",
       "      <td>Community Health</td>\n",
       "      <td>DPH</td>\n",
       "      <td>250</td>\n",
       "      <td>Dental Aide</td>\n",
       "      <td>2873.41</td>\n",
       "      <td>0.0</td>\n",
       "      <td>0.00</td>\n",
       "      <td>2873.41</td>\n",
       "      <td>0.00</td>\n",
       "      <td>622.63</td>\n",
       "      <td>222.46</td>\n",
       "      <td>845.09</td>\n",
       "      <td>3718.50</td>\n",
       "    </tr>\n",
       "    <tr>\n",
       "      <th>4</th>\n",
       "      <td>Fiscal</td>\n",
       "      <td>2014</td>\n",
       "      <td>Culture &amp; Recreation</td>\n",
       "      <td>REC</td>\n",
       "      <td>790</td>\n",
       "      <td>Recreation Leader</td>\n",
       "      <td>6701.85</td>\n",
       "      <td>0.0</td>\n",
       "      <td>176.70</td>\n",
       "      <td>6878.55</td>\n",
       "      <td>0.00</td>\n",
       "      <td>2711.66</td>\n",
       "      <td>538.43</td>\n",
       "      <td>3250.09</td>\n",
       "      <td>10128.64</td>\n",
       "    </tr>\n",
       "  </tbody>\n",
       "</table>\n",
       "</div>"
      ],
      "text/plain": [
       "  Year Type  Year    Organization Group Department Code Union Code  \\\n",
       "0    Fiscal  2016     Public Protection             DAT        311   \n",
       "1  Calendar  2013  Culture & Recreation             ART        790   \n",
       "2  Calendar  2015      Community Health             DPH        535   \n",
       "3    Fiscal  2015      Community Health             DPH        250   \n",
       "4    Fiscal  2014  Culture & Recreation             REC        790   \n",
       "\n",
       "                           Job   Salaries  Overtime  Other Salaries  \\\n",
       "0    Attorney (Civil/Criminal)  114473.16       0.0         1500.00   \n",
       "1  Senior Management Assistant   84077.11       0.0            0.00   \n",
       "2           Eligibility Worker    9980.17       0.0          798.43   \n",
       "3                  Dental Aide    2873.41       0.0            0.00   \n",
       "4            Recreation Leader    6701.85       0.0          176.70   \n",
       "\n",
       "   Total Salary  Retirement  Health/Dental  Other Benefits  Total Benefits  \\\n",
       "0     115973.16    21025.98       13068.80         9368.71        43463.49   \n",
       "1      84077.11    16587.30       12457.73         6931.91        35976.94   \n",
       "2      10778.60        0.00        2254.93          835.11         3090.04   \n",
       "3       2873.41        0.00         622.63          222.46          845.09   \n",
       "4       6878.55        0.00        2711.66          538.43         3250.09   \n",
       "\n",
       "   Total Compensation  \n",
       "0           159436.65  \n",
       "1           120054.05  \n",
       "2            13868.64  \n",
       "3             3718.50  \n",
       "4            10128.64  "
      ]
     },
     "execution_count": 24,
     "metadata": {},
     "output_type": "execute_result"
    }
   ],
   "source": [
    "df3.head()"
   ]
  },
  {
   "cell_type": "code",
   "execution_count": 25,
   "id": "02407247",
   "metadata": {},
   "outputs": [
    {
     "data": {
      "text/plain": [
       "3335"
      ]
     },
     "execution_count": 25,
     "metadata": {},
     "output_type": "execute_result"
    }
   ],
   "source": [
    "df3.duplicated().sum()"
   ]
  },
  {
   "cell_type": "code",
   "execution_count": 26,
   "id": "c5492de9",
   "metadata": {},
   "outputs": [
    {
     "data": {
      "text/plain": [
       "0"
      ]
     },
     "execution_count": 26,
     "metadata": {},
     "output_type": "execute_result"
    }
   ],
   "source": [
    "df3.drop_duplicates(inplace = True)\n",
    "df3.duplicated().sum()"
   ]
  },
  {
   "cell_type": "markdown",
   "id": "e39dfdfe",
   "metadata": {},
   "source": [
    "### 5.1. Find top compensating organizations. Display using bar plot"
   ]
  },
  {
   "cell_type": "code",
   "execution_count": 52,
   "id": "0bfbcf00",
   "metadata": {},
   "outputs": [
    {
     "data": {
      "text/plain": [
       "Organization Group\n",
       "General Administration & Finance            653498.15\n",
       "Public Protection                           510574.44\n",
       "Public Works, Transportation & Commerce     430872.68\n",
       "Community Health                            422799.94\n",
       "Human Welfare & Neighborhood Development    372586.30\n",
       "Culture & Recreation                        318713.18\n",
       "General City Responsibilities               137930.88\n",
       "Name: Total Compensation, dtype: float64"
      ]
     },
     "execution_count": 52,
     "metadata": {},
     "output_type": "execute_result"
    }
   ],
   "source": [
    "# Displaying the Top Compensating Organizations\n",
    "df_top_comp_org = df3.groupby(['Organization Group'])['Total Compensation'].max().sort_values(ascending=False)\n",
    "df_top_comp_org.head(10)"
   ]
  },
  {
   "cell_type": "code",
   "execution_count": 64,
   "id": "1e7cc31f",
   "metadata": {},
   "outputs": [],
   "source": [
    "import pandas as pd\n",
    "dfx  = pd.DataFrame(data = df_top_comp_org)"
   ]
  },
  {
   "cell_type": "code",
   "execution_count": 65,
   "id": "d8eec712",
   "metadata": {},
   "outputs": [
    {
     "data": {
      "text/html": [
       "<div>\n",
       "<style scoped>\n",
       "    .dataframe tbody tr th:only-of-type {\n",
       "        vertical-align: middle;\n",
       "    }\n",
       "\n",
       "    .dataframe tbody tr th {\n",
       "        vertical-align: top;\n",
       "    }\n",
       "\n",
       "    .dataframe thead th {\n",
       "        text-align: right;\n",
       "    }\n",
       "</style>\n",
       "<table border=\"1\" class=\"dataframe\">\n",
       "  <thead>\n",
       "    <tr style=\"text-align: right;\">\n",
       "      <th></th>\n",
       "      <th>Total Compensation</th>\n",
       "    </tr>\n",
       "    <tr>\n",
       "      <th>Organization Group</th>\n",
       "      <th></th>\n",
       "    </tr>\n",
       "  </thead>\n",
       "  <tbody>\n",
       "    <tr>\n",
       "      <th>General Administration &amp; Finance</th>\n",
       "      <td>653498.15</td>\n",
       "    </tr>\n",
       "    <tr>\n",
       "      <th>Public Protection</th>\n",
       "      <td>510574.44</td>\n",
       "    </tr>\n",
       "    <tr>\n",
       "      <th>Public Works, Transportation &amp; Commerce</th>\n",
       "      <td>430872.68</td>\n",
       "    </tr>\n",
       "    <tr>\n",
       "      <th>Community Health</th>\n",
       "      <td>422799.94</td>\n",
       "    </tr>\n",
       "    <tr>\n",
       "      <th>Human Welfare &amp; Neighborhood Development</th>\n",
       "      <td>372586.30</td>\n",
       "    </tr>\n",
       "  </tbody>\n",
       "</table>\n",
       "</div>"
      ],
      "text/plain": [
       "                                          Total Compensation\n",
       "Organization Group                                          \n",
       "General Administration & Finance                   653498.15\n",
       "Public Protection                                  510574.44\n",
       "Public Works, Transportation & Commerce            430872.68\n",
       "Community Health                                   422799.94\n",
       "Human Welfare & Neighborhood Development           372586.30"
      ]
     },
     "execution_count": 65,
     "metadata": {},
     "output_type": "execute_result"
    }
   ],
   "source": [
    "dfx.head()"
   ]
  },
  {
   "cell_type": "code",
   "execution_count": 68,
   "id": "842aa526",
   "metadata": {},
   "outputs": [
    {
     "data": {
      "text/html": [
       "<div>\n",
       "<style scoped>\n",
       "    .dataframe tbody tr th:only-of-type {\n",
       "        vertical-align: middle;\n",
       "    }\n",
       "\n",
       "    .dataframe tbody tr th {\n",
       "        vertical-align: top;\n",
       "    }\n",
       "\n",
       "    .dataframe thead th {\n",
       "        text-align: right;\n",
       "    }\n",
       "</style>\n",
       "<table border=\"1\" class=\"dataframe\">\n",
       "  <thead>\n",
       "    <tr style=\"text-align: right;\">\n",
       "      <th></th>\n",
       "      <th>Organization Group</th>\n",
       "      <th>Total Compensation</th>\n",
       "    </tr>\n",
       "  </thead>\n",
       "  <tbody>\n",
       "    <tr>\n",
       "      <th>0</th>\n",
       "      <td>General Administration &amp; Finance</td>\n",
       "      <td>653498.15</td>\n",
       "    </tr>\n",
       "    <tr>\n",
       "      <th>1</th>\n",
       "      <td>Public Protection</td>\n",
       "      <td>510574.44</td>\n",
       "    </tr>\n",
       "    <tr>\n",
       "      <th>2</th>\n",
       "      <td>Public Works, Transportation &amp; Commerce</td>\n",
       "      <td>430872.68</td>\n",
       "    </tr>\n",
       "    <tr>\n",
       "      <th>3</th>\n",
       "      <td>Community Health</td>\n",
       "      <td>422799.94</td>\n",
       "    </tr>\n",
       "    <tr>\n",
       "      <th>4</th>\n",
       "      <td>Human Welfare &amp; Neighborhood Development</td>\n",
       "      <td>372586.30</td>\n",
       "    </tr>\n",
       "    <tr>\n",
       "      <th>5</th>\n",
       "      <td>Culture &amp; Recreation</td>\n",
       "      <td>318713.18</td>\n",
       "    </tr>\n",
       "    <tr>\n",
       "      <th>6</th>\n",
       "      <td>General City Responsibilities</td>\n",
       "      <td>137930.88</td>\n",
       "    </tr>\n",
       "  </tbody>\n",
       "</table>\n",
       "</div>"
      ],
      "text/plain": [
       "                         Organization Group  Total Compensation\n",
       "0          General Administration & Finance           653498.15\n",
       "1                         Public Protection           510574.44\n",
       "2   Public Works, Transportation & Commerce           430872.68\n",
       "3                          Community Health           422799.94\n",
       "4  Human Welfare & Neighborhood Development           372586.30\n",
       "5                      Culture & Recreation           318713.18\n",
       "6             General City Responsibilities           137930.88"
      ]
     },
     "execution_count": 68,
     "metadata": {},
     "output_type": "execute_result"
    }
   ],
   "source": [
    "dfx.reset_index(level=0, inplace=True)\n",
    "dfx"
   ]
  },
  {
   "cell_type": "code",
   "execution_count": 79,
   "id": "00b2d701",
   "metadata": {},
   "outputs": [
    {
     "data": {
      "text/plain": [
       "Text(0, 0.5, 'Maximum Compensation')"
      ]
     },
     "execution_count": 79,
     "metadata": {},
     "output_type": "execute_result"
    },
    {
     "data": {
      "image/png": "[encoded data removed]",
      "text/plain": [
       "<Figure size 1440x1152 with 1 Axes>"
      ]
     },
     "metadata": {
      "needs_background": "light"
     },
     "output_type": "display_data"
    }
   ],
   "source": [
    "# Displaying bar plot of the Top compensating Organizations in Descending order of the maximum compensation\n",
    "import matplotlib.pyplot as plt\n",
    "dfx.plot.bar(x='Organization Group', y='Total Compensation', rot =0, figsize=(20,16))\n",
    "plt.title(\"Top Compensating Organizations\")\n",
    "plt.xlabel('Organization Group')\n",
    "plt.ylabel('Maximum Compensation')"
   ]
  },
  {
   "cell_type": "markdown",
   "id": "9af291d0",
   "metadata": {},
   "source": [
    "### 5.2. Find top Compensating Jobs. Display using bar plot"
   ]
  },
  {
   "cell_type": "code",
   "execution_count": 85,
   "id": "5afd9a64",
   "metadata": {},
   "outputs": [
    {
     "data": {
      "text/plain": [
       "Job\n",
       "Chief Investment Officer          653498.15\n",
       "Deputy Chief 3                    510574.44\n",
       "Asst Med Examiner                 497505.00\n",
       "Chief Of Police                   466798.21\n",
       "Dept Head V                       433302.72\n",
       "Chief, Fire Department            426006.85\n",
       "Battlion Chief, Fire Suppressi    425605.01\n",
       "Adm, SFGH Medical Center          422799.94\n",
       "Executive Contract Employee       422019.78\n",
       "Senior Physician Specialist       418013.58\n",
       "Name: Total Compensation, dtype: float64"
      ]
     },
     "execution_count": 85,
     "metadata": {},
     "output_type": "execute_result"
    }
   ],
   "source": [
    "# Displaying the Top 10 Compensating Jobs\n",
    "df_top_comp_job = df3.groupby(['Job'])['Total Compensation'].max().sort_values(ascending=False)[:10]\n",
    "df_top_comp_job.head(10)"
   ]
  },
  {
   "cell_type": "code",
   "execution_count": 86,
   "id": "8025681a",
   "metadata": {},
   "outputs": [
    {
     "data": {
      "text/html": [
       "<div>\n",
       "<style scoped>\n",
       "    .dataframe tbody tr th:only-of-type {\n",
       "        vertical-align: middle;\n",
       "    }\n",
       "\n",
       "    .dataframe tbody tr th {\n",
       "        vertical-align: top;\n",
       "    }\n",
       "\n",
       "    .dataframe thead th {\n",
       "        text-align: right;\n",
       "    }\n",
       "</style>\n",
       "<table border=\"1\" class=\"dataframe\">\n",
       "  <thead>\n",
       "    <tr style=\"text-align: right;\">\n",
       "      <th></th>\n",
       "      <th>Job</th>\n",
       "      <th>Total Compensation</th>\n",
       "    </tr>\n",
       "  </thead>\n",
       "  <tbody>\n",
       "    <tr>\n",
       "      <th>0</th>\n",
       "      <td>Chief Investment Officer</td>\n",
       "      <td>653498.15</td>\n",
       "    </tr>\n",
       "    <tr>\n",
       "      <th>1</th>\n",
       "      <td>Deputy Chief 3</td>\n",
       "      <td>510574.44</td>\n",
       "    </tr>\n",
       "    <tr>\n",
       "      <th>2</th>\n",
       "      <td>Asst Med Examiner</td>\n",
       "      <td>497505.00</td>\n",
       "    </tr>\n",
       "    <tr>\n",
       "      <th>3</th>\n",
       "      <td>Chief Of Police</td>\n",
       "      <td>466798.21</td>\n",
       "    </tr>\n",
       "    <tr>\n",
       "      <th>4</th>\n",
       "      <td>Dept Head V</td>\n",
       "      <td>433302.72</td>\n",
       "    </tr>\n",
       "    <tr>\n",
       "      <th>5</th>\n",
       "      <td>Chief, Fire Department</td>\n",
       "      <td>426006.85</td>\n",
       "    </tr>\n",
       "    <tr>\n",
       "      <th>6</th>\n",
       "      <td>Battlion Chief, Fire Suppressi</td>\n",
       "      <td>425605.01</td>\n",
       "    </tr>\n",
       "    <tr>\n",
       "      <th>7</th>\n",
       "      <td>Adm, SFGH Medical Center</td>\n",
       "      <td>422799.94</td>\n",
       "    </tr>\n",
       "    <tr>\n",
       "      <th>8</th>\n",
       "      <td>Executive Contract Employee</td>\n",
       "      <td>422019.78</td>\n",
       "    </tr>\n",
       "    <tr>\n",
       "      <th>9</th>\n",
       "      <td>Senior Physician Specialist</td>\n",
       "      <td>418013.58</td>\n",
       "    </tr>\n",
       "  </tbody>\n",
       "</table>\n",
       "</div>"
      ],
      "text/plain": [
       "                              Job  Total Compensation\n",
       "0        Chief Investment Officer           653498.15\n",
       "1                  Deputy Chief 3           510574.44\n",
       "2               Asst Med Examiner           497505.00\n",
       "3                 Chief Of Police           466798.21\n",
       "4                     Dept Head V           433302.72\n",
       "5          Chief, Fire Department           426006.85\n",
       "6  Battlion Chief, Fire Suppressi           425605.01\n",
       "7        Adm, SFGH Medical Center           422799.94\n",
       "8     Executive Contract Employee           422019.78\n",
       "9     Senior Physician Specialist           418013.58"
      ]
     },
     "execution_count": 86,
     "metadata": {},
     "output_type": "execute_result"
    }
   ],
   "source": [
    "dfy  = pd.DataFrame(data = df_top_comp_job)\n",
    "dfy.reset_index(level=0, inplace=True)\n",
    "dfy"
   ]
  },
  {
   "cell_type": "code",
   "execution_count": 87,
   "id": "375213a7",
   "metadata": {},
   "outputs": [
    {
     "data": {
      "text/plain": [
       "Text(0, 0.5, 'Maximum Compensation')"
      ]
     },
     "execution_count": 87,
     "metadata": {},
     "output_type": "execute_result"
    },
    {
     "data": {
      "image/png": "[encoded data removed]",
      "text/plain": [
       "<Figure size 1440x1152 with 1 Axes>"
      ]
     },
     "metadata": {
      "needs_background": "light"
     },
     "output_type": "display_data"
    }
   ],
   "source": [
    "# Displaying the bar plot of the Top 10 compensating Jobs in the Descending order of the maximum compensation\n",
    "dfy.plot.bar(x='Job', y='Total Compensation', rot =0, figsize=(20,16))\n",
    "plt.title(\"Top Compensating Jobs\")\n",
    "plt.xlabel('Job')\n",
    "plt.ylabel('Maximum Compensation')"
   ]
  },
  {
   "cell_type": "markdown",
   "id": "bd81d59f",
   "metadata": {},
   "source": [
    "### 5.3. Check Correlation of Target Variable with Other Independent Variables. Plot Heatmap"
   ]
  },
  {
   "cell_type": "code",
   "execution_count": 45,
   "id": "fdbfd00c",
   "metadata": {},
   "outputs": [
    {
     "data": {
      "text/html": [
       "<div>\n",
       "<style scoped>\n",
       "    .dataframe tbody tr th:only-of-type {\n",
       "        vertical-align: middle;\n",
       "    }\n",
       "\n",
       "    .dataframe tbody tr th {\n",
       "        vertical-align: top;\n",
       "    }\n",
       "\n",
       "    .dataframe thead th {\n",
       "        text-align: right;\n",
       "    }\n",
       "</style>\n",
       "<table border=\"1\" class=\"dataframe\">\n",
       "  <thead>\n",
       "    <tr style=\"text-align: right;\">\n",
       "      <th></th>\n",
       "      <th>Salaries</th>\n",
       "      <th>Overtime</th>\n",
       "      <th>Other Salaries</th>\n",
       "      <th>Total Salary</th>\n",
       "      <th>Retirement</th>\n",
       "      <th>Health/Dental</th>\n",
       "      <th>Other Benefits</th>\n",
       "      <th>Total Benefits</th>\n",
       "      <th>Total Compensation</th>\n",
       "    </tr>\n",
       "  </thead>\n",
       "  <tbody>\n",
       "    <tr>\n",
       "      <th>Salaries</th>\n",
       "      <td>1.000000</td>\n",
       "      <td>0.267833</td>\n",
       "      <td>0.327971</td>\n",
       "      <td>0.959857</td>\n",
       "      <td>0.952338</td>\n",
       "      <td>0.768929</td>\n",
       "      <td>0.691553</td>\n",
       "      <td>0.936840</td>\n",
       "      <td>0.972092</td>\n",
       "    </tr>\n",
       "    <tr>\n",
       "      <th>Overtime</th>\n",
       "      <td>0.267833</td>\n",
       "      <td>1.000000</td>\n",
       "      <td>0.351720</td>\n",
       "      <td>0.494999</td>\n",
       "      <td>0.310655</td>\n",
       "      <td>0.310054</td>\n",
       "      <td>0.056256</td>\n",
       "      <td>0.284406</td>\n",
       "      <td>0.452206</td>\n",
       "    </tr>\n",
       "    <tr>\n",
       "      <th>Other Salaries</th>\n",
       "      <td>0.327971</td>\n",
       "      <td>0.351720</td>\n",
       "      <td>1.000000</td>\n",
       "      <td>0.502704</td>\n",
       "      <td>0.344915</td>\n",
       "      <td>0.211976</td>\n",
       "      <td>0.036342</td>\n",
       "      <td>0.271459</td>\n",
       "      <td>0.454952</td>\n",
       "    </tr>\n",
       "    <tr>\n",
       "      <th>Total Salary</th>\n",
       "      <td>0.959857</td>\n",
       "      <td>0.494999</td>\n",
       "      <td>0.502704</td>\n",
       "      <td>1.000000</td>\n",
       "      <td>0.930824</td>\n",
       "      <td>0.754475</td>\n",
       "      <td>0.608109</td>\n",
       "      <td>0.901148</td>\n",
       "      <td>0.994247</td>\n",
       "    </tr>\n",
       "    <tr>\n",
       "      <th>Retirement</th>\n",
       "      <td>0.952338</td>\n",
       "      <td>0.310655</td>\n",
       "      <td>0.344915</td>\n",
       "      <td>0.930824</td>\n",
       "      <td>1.000000</td>\n",
       "      <td>0.790465</td>\n",
       "      <td>0.665255</td>\n",
       "      <td>0.965000</td>\n",
       "      <td>0.956648</td>\n",
       "    </tr>\n",
       "    <tr>\n",
       "      <th>Health/Dental</th>\n",
       "      <td>0.768929</td>\n",
       "      <td>0.310054</td>\n",
       "      <td>0.211976</td>\n",
       "      <td>0.754475</td>\n",
       "      <td>0.790465</td>\n",
       "      <td>1.000000</td>\n",
       "      <td>0.590644</td>\n",
       "      <td>0.886375</td>\n",
       "      <td>0.801153</td>\n",
       "    </tr>\n",
       "    <tr>\n",
       "      <th>Other Benefits</th>\n",
       "      <td>0.691553</td>\n",
       "      <td>0.056256</td>\n",
       "      <td>0.036342</td>\n",
       "      <td>0.608109</td>\n",
       "      <td>0.665255</td>\n",
       "      <td>0.590644</td>\n",
       "      <td>1.000000</td>\n",
       "      <td>0.787136</td>\n",
       "      <td>0.663699</td>\n",
       "    </tr>\n",
       "    <tr>\n",
       "      <th>Total Benefits</th>\n",
       "      <td>0.936840</td>\n",
       "      <td>0.284406</td>\n",
       "      <td>0.271459</td>\n",
       "      <td>0.901148</td>\n",
       "      <td>0.965000</td>\n",
       "      <td>0.886375</td>\n",
       "      <td>0.787136</td>\n",
       "      <td>1.000000</td>\n",
       "      <td>0.942399</td>\n",
       "    </tr>\n",
       "    <tr>\n",
       "      <th>Total Compensation</th>\n",
       "      <td>0.972092</td>\n",
       "      <td>0.452206</td>\n",
       "      <td>0.454952</td>\n",
       "      <td>0.994247</td>\n",
       "      <td>0.956648</td>\n",
       "      <td>0.801153</td>\n",
       "      <td>0.663699</td>\n",
       "      <td>0.942399</td>\n",
       "      <td>1.000000</td>\n",
       "    </tr>\n",
       "  </tbody>\n",
       "</table>\n",
       "</div>"
      ],
      "text/plain": [
       "                    Salaries  Overtime  Other Salaries  Total Salary  \\\n",
       "Salaries            1.000000  0.267833        0.327971      0.959857   \n",
       "Overtime            0.267833  1.000000        0.351720      0.494999   \n",
       "Other Salaries      0.327971  0.351720        1.000000      0.502704   \n",
       "Total Salary        0.959857  0.494999        0.502704      1.000000   \n",
       "Retirement          0.952338  0.310655        0.344915      0.930824   \n",
       "Health/Dental       0.768929  0.310054        0.211976      0.754475   \n",
       "Other Benefits      0.691553  0.056256        0.036342      0.608109   \n",
       "Total Benefits      0.936840  0.284406        0.271459      0.901148   \n",
       "Total Compensation  0.972092  0.452206        0.454952      0.994247   \n",
       "\n",
       "                    Retirement  Health/Dental  Other Benefits  Total Benefits  \\\n",
       "Salaries              0.952338       0.768929        0.691553        0.936840   \n",
       "Overtime              0.310655       0.310054        0.056256        0.284406   \n",
       "Other Salaries        0.344915       0.211976        0.036342        0.271459   \n",
       "Total Salary          0.930824       0.754475        0.608109        0.901148   \n",
       "Retirement            1.000000       0.790465        0.665255        0.965000   \n",
       "Health/Dental         0.790465       1.000000        0.590644        0.886375   \n",
       "Other Benefits        0.665255       0.590644        1.000000        0.787136   \n",
       "Total Benefits        0.965000       0.886375        0.787136        1.000000   \n",
       "Total Compensation    0.956648       0.801153        0.663699        0.942399   \n",
       "\n",
       "                    Total Compensation  \n",
       "Salaries                      0.972092  \n",
       "Overtime                      0.452206  \n",
       "Other Salaries                0.454952  \n",
       "Total Salary                  0.994247  \n",
       "Retirement                    0.956648  \n",
       "Health/Dental                 0.801153  \n",
       "Other Benefits                0.663699  \n",
       "Total Benefits                0.942399  \n",
       "Total Compensation            1.000000  "
      ]
     },
     "execution_count": 45,
     "metadata": {},
     "output_type": "execute_result"
    }
   ],
   "source": [
    "corr = df3.corr(numeric_only = True)\n",
    "corr"
   ]
  },
  {
   "cell_type": "code",
   "execution_count": 46,
   "id": "0bde943e",
   "metadata": {},
   "outputs": [
    {
     "data": {
      "text/plain": [
       "<AxesSubplot:>"
      ]
     },
     "execution_count": 46,
     "metadata": {},
     "output_type": "execute_result"
    },
    {
     "data": {
      "image/png": "[encoded data removed]",
      "text/plain": [
       "<Figure size 432x288 with 2 Axes>"
      ]
     },
     "metadata": {
      "needs_background": "light"
     },
     "output_type": "display_data"
    }
   ],
   "source": [
    "import seaborn as sns\n",
    "sns.heatmap(corr)"
   ]
  },
  {
   "cell_type": "markdown",
   "id": "785b3326",
   "metadata": {},
   "source": [
    "## 6. Perform necessary data pre-processing and divide the data into train and test set"
   ]
  },
  {
   "cell_type": "markdown",
   "id": "43920409",
   "metadata": {},
   "source": [
    "### 6.1 Categorise the attributes into its type (Use one hot encoding wherever required)"
   ]
  },
  {
   "cell_type": "code",
   "execution_count": 98,
   "id": "0e048244",
   "metadata": {},
   "outputs": [],
   "source": [
    "cols = df2.columns"
   ]
  },
  {
   "cell_type": "code",
   "execution_count": 96,
   "id": "c9e5335b",
   "metadata": {},
   "outputs": [],
   "source": [
    "from pyspark.ml import Pipeline\n",
    "from pyspark.ml.feature import OneHotEncoder,   StringIndexer, VectorAssembler\n",
    "\n",
    "categoricalColumns = ['Year Type', 'Year', 'Organization Group', 'Department Code', 'Union Code', 'Job']\n",
    "\n",
    "stages = []\n",
    "\n",
    "for categoricalCol in categoricalColumns:\n",
    "    stringIndexer = StringIndexer(inputCol = categoricalCol, outputCol = categoricalCol + 'Index')\n",
    "    encoder = OneHotEncoder(inputCols=[stringIndexer.getOutputCol()], outputCols=[categoricalCol + \"classVec\"])\n",
    "    stages += [stringIndexer, encoder]\n",
    "    \n",
    "    \n",
    "numericCols =  ['Salaries', 'Overtime', 'Other Salaries', 'Total Salary', 'Retirement', 'Health/Dental', 'Other Benefits', 'Total Benefits', 'Total Compensation']\n",
    "\n",
    "assemblerInputs = [c + \"classVec\" for c in categoricalColumns] + numericCols \n",
    "assembler = VectorAssembler(inputCols=assemblerInputs, outputCol=\"features\")\n",
    "stages += [assembler]"
   ]
  },
  {
   "cell_type": "code",
   "execution_count": 99,
   "id": "7175c727",
   "metadata": {},
   "outputs": [
    {
     "name": "stderr",
     "output_type": "stream",
     "text": [
      "                                                                                \r"
     ]
    }
   ],
   "source": [
    "pipeline = Pipeline(stages = stages)\n",
    "pipelineModel = pipeline.fit(df2)\n",
    "df_encoded = pipelineModel.transform(df2)\n",
    "selectedCols = ['features'] + cols\n",
    "df_encoded = df_encoded.select(selectedCols)"
   ]
  },
  {
   "cell_type": "code",
   "execution_count": 101,
   "id": "0c410cf5",
   "metadata": {},
   "outputs": [
    {
     "name": "stdout",
     "output_type": "stream",
     "text": [
      "23/12/17 12:26:23 WARN package: Truncated the string representation of a plan since it was too large. This behavior can be adjusted by setting 'spark.sql.debug.maxToStringFields'.\n",
      "+--------------------+---------+----+--------------------+---------------+----------+--------------------+---------+--------+--------------+------------+----------+-------------+--------------+--------------+------------------+\n",
      "|            features|Year Type|Year|  Organization Group|Department Code|Union Code|                 Job| Salaries|Overtime|Other Salaries|Total Salary|Retirement|Health/Dental|Other Benefits|Total Benefits|Total Compensation|\n",
      "+--------------------+---------+----+--------------------+---------------+----------+--------------------+---------+--------+--------------+------------+----------+-------------+--------------+--------------+------------------+\n",
      "|(1275,[0,6,29,78,...|   Fiscal|2016|   Public Protection|            DAT|       311|Attorney (Civil/C...|114473.16|     0.0|        1500.0|   115973.16|  21025.98|      13068.8|       9368.71|      43463.49|         159436.65|\n",
      "|(1275,[3,8,53,63,...| Calendar|2013|Culture & Recreation|            ART|       790|Senior Management...| 84077.11|     0.0|           0.0|    84077.11|   16587.3|     12457.73|       6931.91|      35976.94|         120054.05|\n",
      "+--------------------+---------+----+--------------------+---------------+----------+--------------------+---------+--------+--------------+------------+----------+-------------+--------------+--------------+------------------+\n",
      "only showing top 2 rows\n",
      "\n"
     ]
    }
   ],
   "source": [
    "df_encoded.show(2)"
   ]
  },
  {
   "cell_type": "markdown",
   "id": "9c8ddde5",
   "metadata": {},
   "source": [
    "### 6.2 Split the data into train and test set"
   ]
  },
  {
   "cell_type": "code",
   "execution_count": 104,
   "id": "57879dd6",
   "metadata": {},
   "outputs": [
    {
     "name": "stderr",
     "output_type": "stream",
     "text": [
      "[Stage 108:============================>                            (1 + 1) / 2]\r"
     ]
    },
    {
     "name": "stdout",
     "output_type": "stream",
     "text": [
      "There are 203288 training examples and 87060 test examples.\n"
     ]
    },
    {
     "name": "stderr",
     "output_type": "stream",
     "text": [
      "                                                                                \r"
     ]
    }
   ],
   "source": [
    "train, test = df_encoded.randomSplit([0.7, 0.3], seed = 42)\n",
    "print(\"There are %d training examples and %d test examples.\" % (train.count(), test.count()))"
   ]
  },
  {
   "cell_type": "markdown",
   "id": "12960b10",
   "metadata": {},
   "source": [
    "## 7. Fit Linear Regression model on the data and check its performance"
   ]
  },
  {
   "cell_type": "code",
   "execution_count": 109,
   "id": "4f250ec2",
   "metadata": {},
   "outputs": [
    {
     "name": "stdout",
     "output_type": "stream",
     "text": [
      "23/12/17 12:44:17 WARN Instrumentation: [d4b96a37] regParam is zero, which might cause numerical instability and overfitting.\n"
     ]
    },
    {
     "name": "stderr",
     "output_type": "stream",
     "text": [
      "                                                                                \r"
     ]
    },
    {
     "name": "stdout",
     "output_type": "stream",
     "text": [
      "23/12/17 12:44:23 WARN Instrumentation: [d4b96a37] Cholesky solver failed due to singular covariance matrix. Retrying with Quasi-Newton solver.\n"
     ]
    },
    {
     "name": "stderr",
     "output_type": "stream",
     "text": [
      "                                                                                \r"
     ]
    },
    {
     "data": {
      "text/plain": [
       "3.64361592956886"
      ]
     },
     "execution_count": 109,
     "metadata": {},
     "output_type": "execute_result"
    }
   ],
   "source": [
    "from pyspark.ml.regression import LinearRegression\n",
    "\n",
    "lr = LinearRegression(labelCol = 'Total Compensation', featuresCol = 'features')\n",
    "lr_model = lr.fit(train)\n",
    "result = lr_model.evaluate(test)\n",
    "result.rootMeanSquaredError"
   ]
  },
  {
   "cell_type": "code",
   "execution_count": 111,
   "id": "dcdb30b5",
   "metadata": {},
   "outputs": [
    {
     "data": {
      "text/plain": [
       "13.275937042207948"
      ]
     },
     "execution_count": 111,
     "metadata": {},
     "output_type": "execute_result"
    }
   ],
   "source": [
    "result.meanSquaredError"
   ]
  },
  {
   "cell_type": "code",
   "execution_count": 112,
   "id": "eeb3a84c",
   "metadata": {},
   "outputs": [
    {
     "data": {
      "text/plain": [
       "1.4637432533317685"
      ]
     },
     "execution_count": 112,
     "metadata": {},
     "output_type": "execute_result"
    }
   ],
   "source": [
    "result.meanAbsoluteError"
   ]
  },
  {
   "cell_type": "code",
   "execution_count": 110,
   "id": "fcb30c77",
   "metadata": {},
   "outputs": [
    {
     "data": {
      "text/plain": [
       "0.9999999970936833"
      ]
     },
     "execution_count": 110,
     "metadata": {},
     "output_type": "execute_result"
    }
   ],
   "source": [
    "result.r2"
   ]
  },
  {
   "cell_type": "markdown",
   "id": "f98b8733",
   "metadata": {},
   "source": [
    "**We can see that the performance of our model is very high (99.9999... %)!**"
   ]
  },
  {
   "cell_type": "markdown",
   "id": "40f30644",
   "metadata": {},
   "source": [
    "## 8. Fit Decision Tree Regression model on the data and check its performance"
   ]
  },
  {
   "cell_type": "code",
   "execution_count": 114,
   "id": "64f292b1",
   "metadata": {},
   "outputs": [
    {
     "name": "stderr",
     "output_type": "stream",
     "text": [
      "[Stage 135:>                                                        (0 + 2) / 2]\r"
     ]
    },
    {
     "name": "stdout",
     "output_type": "stream",
     "text": [
      "23/12/17 12:55:03 WARN MemoryStore: Not enough space to cache rdd_410_1 in memory! (computed 178.4 MiB so far)\n",
      "23/12/17 12:55:03 WARN BlockManager: Persisting block rdd_410_1 to disk instead.\n",
      "23/12/17 12:55:04 WARN MemoryStore: Not enough space to cache rdd_410_0 in memory! (computed 115.0 MiB so far)\n",
      "23/12/17 12:55:04 WARN BlockManager: Persisting block rdd_410_0 to disk instead.\n",
      "23/12/17 12:55:07 WARN MemoryStore: Not enough space to cache rdd_410_0 in memory! (computed 22.1 MiB so far)\n",
      "23/12/17 12:55:07 WARN MemoryStore: Not enough space to cache rdd_410_1 in memory! (computed 410.3 MiB so far)\n"
     ]
    },
    {
     "name": "stderr",
     "output_type": "stream",
     "text": [
      "[Stage 137:>                                                        (0 + 2) / 2]\r"
     ]
    },
    {
     "name": "stdout",
     "output_type": "stream",
     "text": [
      "23/12/17 12:55:10 WARN MemoryStore: Not enough space to cache rdd_410_1 in memory! (computed 178.9 MiB so far)\n",
      "23/12/17 12:55:10 WARN MemoryStore: Not enough space to cache rdd_410_0 in memory! (computed 178.9 MiB so far)\n"
     ]
    },
    {
     "name": "stderr",
     "output_type": "stream",
     "text": [
      "[Stage 139:>                                                        (0 + 2) / 2]\r"
     ]
    },
    {
     "name": "stdout",
     "output_type": "stream",
     "text": [
      "23/12/17 12:55:12 WARN MemoryStore: Not enough space to cache rdd_410_0 in memory! (computed 178.9 MiB so far)\n",
      "23/12/17 12:55:12 WARN MemoryStore: Not enough space to cache rdd_410_1 in memory! (computed 178.9 MiB so far)\n"
     ]
    },
    {
     "name": "stderr",
     "output_type": "stream",
     "text": [
      "                                                                                \r"
     ]
    },
    {
     "name": "stdout",
     "output_type": "stream",
     "text": [
      "23/12/17 12:55:15 WARN MemoryStore: Not enough space to cache rdd_410_0 in memory! (computed 178.9 MiB so far)\n",
      "23/12/17 12:55:15 WARN MemoryStore: Not enough space to cache rdd_410_1 in memory! (computed 178.9 MiB so far)\n"
     ]
    },
    {
     "name": "stderr",
     "output_type": "stream",
     "text": [
      "[Stage 143:>                                                        (0 + 2) / 2]\r"
     ]
    },
    {
     "name": "stdout",
     "output_type": "stream",
     "text": [
      "23/12/17 12:55:17 WARN MemoryStore: Not enough space to cache rdd_410_0 in memory! (computed 178.9 MiB so far)\n",
      "23/12/17 12:55:17 WARN MemoryStore: Not enough space to cache rdd_410_1 in memory! (computed 178.9 MiB so far)\n"
     ]
    },
    {
     "name": "stderr",
     "output_type": "stream",
     "text": [
      "                                                                                \r"
     ]
    }
   ],
   "source": [
    "from pyspark.ml.regression import DecisionTreeRegressor\n",
    "dt = DecisionTreeRegressor(featuresCol ='features', labelCol = 'Total Compensation')\n",
    "dt_model = dt.fit(train)"
   ]
  },
  {
   "cell_type": "code",
   "execution_count": 147,
   "id": "a2b49349",
   "metadata": {},
   "outputs": [
    {
     "name": "stderr",
     "output_type": "stream",
     "text": [
      "                                                                                \r"
     ]
    },
    {
     "name": "stdout",
     "output_type": "stream",
     "text": [
      "0.0\n"
     ]
    }
   ],
   "source": [
    "from pyspark.ml.evaluation import RegressionEvaluator, MulticlassClassificationEvaluator\n",
    "\n",
    "predictions = dt_model.transform(test)\n",
    "\n",
    "evaluator = MulticlassClassificationEvaluator(labelCol=\"Total Compensation\", predictionCol='prediction', metricName=\"accuracy\")\n",
    "accuracy = evaluator.evaluate(predictions)\n",
    "\n",
    "print(accuracy)"
   ]
  },
  {
   "cell_type": "markdown",
   "id": "28067749",
   "metadata": {},
   "source": [
    "## 9. Model Persistence"
   ]
  },
  {
   "cell_type": "markdown",
   "id": "b621c1f0",
   "metadata": {},
   "source": [
    "**_Saving the model_**"
   ]
  },
  {
   "cell_type": "code",
   "execution_count": 149,
   "id": "4d5a5377",
   "metadata": {},
   "outputs": [
    {
     "name": "stderr",
     "output_type": "stream",
     "text": [
      "                                                                                \r"
     ]
    }
   ],
   "source": [
    "lr_model.write().overwrite().save(\"/home/ubuntu/models/lrmodel\")"
   ]
  },
  {
   "cell_type": "markdown",
   "id": "e0575b98",
   "metadata": {},
   "source": [
    "**_Loading the model_**"
   ]
  },
  {
   "cell_type": "code",
   "execution_count": 162,
   "id": "de5fd353",
   "metadata": {},
   "outputs": [
    {
     "name": "stderr",
     "output_type": "stream",
     "text": [
      "[Stage 176:>                                                        (0 + 1) / 1]\r"
     ]
    },
    {
     "name": "stdout",
     "output_type": "stream",
     "text": [
      "+--------------------+---------+------------------+------------------+\n",
      "|  Organization Group|      Job|Total Compensation|        prediction|\n",
      "+--------------------+---------+------------------+------------------+\n",
      "|Public Works, Tra...|Custodian|          45261.38| 45258.92270826888|\n",
      "|Public Works, Tra...|Custodian|          86964.02| 86961.91816155626|\n",
      "|Public Works, Tra...|Custodian|          87426.93| 87424.94772531638|\n",
      "|Public Works, Tra...|Custodian|          94823.46| 94821.33415519928|\n",
      "|Public Works, Tra...|Custodian|          104331.3|104329.17975430728|\n",
      "+--------------------+---------+------------------+------------------+\n",
      "only showing top 5 rows\n",
      "\n"
     ]
    },
    {
     "name": "stderr",
     "output_type": "stream",
     "text": [
      "                                                                                \r"
     ]
    }
   ],
   "source": [
    "from pyspark.ml.regression import LinearRegressionModel\n",
    "\n",
    "linearmodel = LinearRegressionModel.load(\"/home/ubuntu/models/lrmodel\")\n",
    "\n",
    "prediction = linearmodel.transform(test)\n",
    "prediction.select('Organization Group', 'Job', 'Total Compensation', 'prediction').show(5)"
   ]
  },
  {
   "cell_type": "markdown",
   "id": "022b6a92",
   "metadata": {},
   "source": [
    "**Hence, we are able to persist the Model, i.e., we are able to save and load our model!!! <br>\n",
    "Pretty awesome... :)**"
   ]
  },
  {
   "cell_type": "markdown",
   "id": "5b3686b9",
   "metadata": {},
   "source": []
  }
 ],
 "metadata": {
  "kernelspec": {
   "display_name": "Python 3 (ipykernel)",
   "language": "python",
   "name": "python3"
  },
  "language_info": {
   "codemirror_mode": {
    "name": "ipython",
    "version": 3
   },
   "file_extension": ".py",
   "mimetype": "text/x-python",
   "name": "python",
   "nbconvert_exporter": "python",
   "pygments_lexer": "ipython3",
   "version": "3.10.12"
  }
 },
 "nbformat": 4,
 "nbformat_minor": 5
}
